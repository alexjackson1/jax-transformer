{
 "cells": [
  {
   "attachments": {},
   "cell_type": "markdown",
   "metadata": {},
   "source": [
    "## Prerequisites\n",
    "\n",
    "1. Python 3.6 or higher\n",
    "2. (Optional) [CUDA](https://developer.nvidia.com/cuda-zone) 10.1 or higher\n",
    "3. (Optional) [cuDNN](https://developer.nvidia.com/cudnn) 7.6.5 or higher\n",
    "\n",
    "\n",
    "## Setup Instructions\n",
    "1. **Create a project directory.**  \n",
    "  For example, `mkdir -p ~/projects/jaxformer` (or whatever directory you\n",
    "  prefer).\n",
    "\n",
    "1. **Navigate to the project directory.**  \n",
    "  For example, `cd ~/projects/jaxformer` (or whatever directory you created in\n",
    "  the previous step).\n",
    "\n",
    "1. **Create a virtual environment.**  \n",
    "  Using the locally installed Python binary, create a virtual environment\n",
    "  in the project directory, e.g.`python -m venv env`.\n",
    "  This will create a directory called `env` in the project directory with \n",
    "  an isolated Python environment (including `python`, `pip` binaries).\n",
    "\n",
    "1. **Activate the virtual environment in the current shell.**  \n",
    "  We can activate the aforementioned virtual environment (so that future \n",
    "  `python` and `pip` commands refer to the virtual environment's Python\n",
    "  binary and package manager) by running `source env/bin/activate`.\n",
    "\n",
    "1. **Install the required packages.**\n",
    "   - First, upgrade `pip` to the latest version: `pip install --upgrade pip`.\n",
    "   - Next, follow the instructions in the [JAX README](https://github.com/google/jax#installation)\n",
    "    to install JAX and its dependencies.\n",
    "    You can install CPU or GPU versions of JAX, depending on your hardware.\n",
    "    Prefer to use `pip` installation if possible.\n",
    "   - Finally, install the remaining dependencies by running\n",
    "    `pip install -r requirements.txt`.  \n",
    "  \n",
    "1. **Clone the starter code into the project directory.**  \n",
    "  For example, `git clone https://github.com/alexjackson1/examples.git .`\n",
    "  (note the `.` at the end of the command, which clones the repository into\n",
    "  the current directory).\n",
    "\n"
   ]
  }
 ],
 "metadata": {
  "kernelspec": {
   "display_name": "env",
   "language": "python",
   "name": "python3"
  },
  "language_info": {
   "name": "python",
   "version": "3.11.3"
  },
  "orig_nbformat": 4,
  "vscode": {
   "interpreter": {
    "hash": "6b805f1a24a146351cd8dedea7ba6f2d165b63b34e3029cd12d1a8f2ce65f719"
   }
  }
 },
 "nbformat": 4,
 "nbformat_minor": 2
}
