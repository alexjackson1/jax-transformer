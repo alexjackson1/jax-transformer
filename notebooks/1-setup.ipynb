{
 "cells": [
  {
   "attachments": {},
   "cell_type": "markdown",
   "metadata": {},
   "source": [
    "# 1. Setup and Example Text Generation"
   ]
  },
  {
   "attachments": {},
   "cell_type": "markdown",
   "metadata": {},
   "source": [
    "## 1.1 Prerequisites\n"
   ]
  },
  {
   "attachments": {},
   "cell_type": "markdown",
   "metadata": {},
   "source": [
    "1. Python 3.6 or higher\n",
    "2. (Optional) [CUDA](https://developer.nvidia.com/cuda-zone) 10.1 or higher\n",
    "3. (Optional) [cuDNN](https://developer.nvidia.com/cudnn) 7.6.5 or higher\n"
   ]
  },
  {
   "attachments": {},
   "cell_type": "markdown",
   "metadata": {},
   "source": [
    "## 1.2 Setup Instructions\n"
   ]
  },
  {
   "cell_type": "markdown",
   "metadata": {},
   "source": [
    "\n",
    "1. **Create a project directory.**  \n",
    "   For instance by running `mkdir -p <project_dir>`.\n",
    "\n",
    "2. **Navigate to the project directory.**  \n",
    "   For instance by running `cd <project_dir>`.\n",
    "\n",
    "3. **Create a virtual environment.**  \n",
    "   Using the locally-installed version of python (see prerequisites), `python -m venv env`\n",
    "   will create a virtual environment in `<project_dir>/env`.\n",
    "\n",
    "4. **Activate the virtual environment in the current shell.**  \n",
    "   This can be acheived by sourcing the activate script as follows: \n",
    "   `source <env_dir>/bin/activate`.  \n",
    "   Now, python, pip, etc will all refer to the versions installed in the virtual\n",
    "   environment (i.e. in `<env_dir>/bin`).\n",
    "\n",
    "5. **Upgrade `pip` to the latest version.**  \n",
    "   This can be done quickly by running `pip install --upgrade pip`.\n",
    "\n",
    "6. **Install a compatible version of `jax`.**  \n",
    "   It is very easy to install JAX using `pip`, in any case follow the\n",
    "   instructions in the [JAX README](https://github.com/google/jax#installation)\n",
    "   to install JAX and its dependencies in the virtual environment.\n",
    "\n",
    "7. **Install the remaining dependencies.**  \n",
    "   The remaining dependencies (including Flax) can be installed by running\n",
    "   `pip install -r requirements.txt`.\n",
    "   \n",
    "8. **Clone the starter code into the project directory.**  \n",
    "  Specifically, `git clone https://github.com/alexjackson1/examples.git .` will \n",
    "  clone the starter scripts into the current directory.  \n",
    "  Note the `.` at the end of the command, which denotes the current directory.\n",
    "\n"
   ]
  }
 ],
 "metadata": {
  "kernelspec": {
   "display_name": "env",
   "language": "python",
   "name": "python3"
  },
  "language_info": {
   "codemirror_mode": {
    "name": "ipython",
    "version": 3
   },
   "file_extension": ".py",
   "mimetype": "text/x-python",
   "name": "python",
   "nbconvert_exporter": "python",
   "pygments_lexer": "ipython3",
   "version": "3.11.3"
  },
  "orig_nbformat": 4,
  "vscode": {
   "interpreter": {
    "hash": "6b805f1a24a146351cd8dedea7ba6f2d165b63b34e3029cd12d1a8f2ce65f719"
   }
  }
 },
 "nbformat": 4,
 "nbformat_minor": 2
}
