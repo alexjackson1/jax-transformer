{
 "cells": [
  {
   "cell_type": "code",
   "execution_count": 33,
   "metadata": {},
   "outputs": [],
   "source": [
    "from datasets import load_dataset  # HuggingFace datasets\n",
    "\n",
    "from gpt2 import tokenizer\n",
    "from data_utils import tokenize_ds, DataLoader"
   ]
  },
  {
   "attachments": {},
   "cell_type": "markdown",
   "metadata": {},
   "source": [
    "## Load Dataset"
   ]
  },
  {
   "cell_type": "code",
   "execution_count": 34,
   "metadata": {},
   "outputs": [
    {
     "name": "stdout",
     "output_type": "stream",
     "text": [
      "Text:\t It is done, and submitted. You can play ...\n",
      "Tokens:\t 50256,1026,318,1760,11,290,8948,13,921,460...\n"
     ]
    }
   ],
   "source": [
    "context_length, batch_size = 1024, 16\n",
    "\n",
    "ds = load_dataset(\"NeelNanda/pile-10k\", split=\"train\").remove_columns(\"meta\")\n",
    "ds_tokens = tokenize_ds(ds, tokenizer, max_length=context_length, num_proc=None)\n",
    "ds_split = ds_tokens.train_test_split(test_size=1000)\n",
    "\n",
    "ldr_train = DataLoader(ds_split[\"train\"], batch_size, True)\n",
    "ldr_test = DataLoader(ds_split[\"test\"], batch_size)\n",
    "\n",
    "print(\"Text:\\t\", ds[0][\"text\"][:40] + \"...\")\n",
    "print(\"Tokens:\\t\", \",\".join([str(i) for i in ds_tokens[0][\"tokens\"][:10]]) + \"...\")\n"
   ]
  }
 ],
 "metadata": {
  "kernelspec": {
   "display_name": "env",
   "language": "python",
   "name": "python3"
  },
  "language_info": {
   "codemirror_mode": {
    "name": "ipython",
    "version": 3
   },
   "file_extension": ".py",
   "mimetype": "text/x-python",
   "name": "python",
   "nbconvert_exporter": "python",
   "pygments_lexer": "ipython3",
   "version": "3.11.3"
  },
  "orig_nbformat": 4,
  "vscode": {
   "interpreter": {
    "hash": "6b805f1a24a146351cd8dedea7ba6f2d165b63b34e3029cd12d1a8f2ce65f719"
   }
  }
 },
 "nbformat": 4,
 "nbformat_minor": 2
}
